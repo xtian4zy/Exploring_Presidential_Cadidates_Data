{
 "cells": [
  {
   "cell_type": "markdown",
   "metadata": {},
   "source": [
    "## Create Dataframe\n",
    "The data record we will use is the one provided by [Statisense]() on twitter about the different presidential candidates for the 2023 general election."
   ]
  },
  {
   "cell_type": "code",
   "execution_count": 11,
   "metadata": {},
   "outputs": [
    {
     "data": {
      "text/html": [
       "<div>\n",
       "<style scoped>\n",
       "    .dataframe tbody tr th:only-of-type {\n",
       "        vertical-align: middle;\n",
       "    }\n",
       "\n",
       "    .dataframe tbody tr th {\n",
       "        vertical-align: top;\n",
       "    }\n",
       "\n",
       "    .dataframe thead th {\n",
       "        text-align: right;\n",
       "    }\n",
       "</style>\n",
       "<table border=\"1\" class=\"dataframe\">\n",
       "  <thead>\n",
       "    <tr style=\"text-align: right;\">\n",
       "      <th></th>\n",
       "      <th>Presidential Candidates</th>\n",
       "      <th>Region</th>\n",
       "    </tr>\n",
       "  </thead>\n",
       "  <tbody>\n",
       "    <tr>\n",
       "      <th>0</th>\n",
       "      <td>Atiku Abubakar</td>\n",
       "      <td>NE</td>\n",
       "    </tr>\n",
       "    <tr>\n",
       "      <th>1</th>\n",
       "      <td>Aminu Tambuwal</td>\n",
       "      <td>NW</td>\n",
       "    </tr>\n",
       "    <tr>\n",
       "      <th>2</th>\n",
       "      <td>Bala Mohammed</td>\n",
       "      <td>NE</td>\n",
       "    </tr>\n",
       "    <tr>\n",
       "      <th>3</th>\n",
       "      <td>Bukola Saraki</td>\n",
       "      <td>NC</td>\n",
       "    </tr>\n",
       "    <tr>\n",
       "      <th>4</th>\n",
       "      <td>Yahaya Bello</td>\n",
       "      <td>NC</td>\n",
       "    </tr>\n",
       "  </tbody>\n",
       "</table>\n",
       "</div>"
      ],
      "text/plain": [
       "  Presidential Candidates Region\n",
       "0          Atiku Abubakar     NE\n",
       "1          Aminu Tambuwal     NW\n",
       "2           Bala Mohammed     NE\n",
       "3           Bukola Saraki     NC\n",
       "4            Yahaya Bello     NC"
      ]
     },
     "execution_count": 11,
     "metadata": {},
     "output_type": "execute_result"
    }
   ],
   "source": [
    "import pandas as pd\n",
    "\n",
    "df = pd.DataFrame({'Presidential Candidates':['Atiku Abubakar','Aminu Tambuwal','Bala Mohammed','Bukola Saraki',\n",
    "                           'Yahaya Bello','Bola Tinubu','Dave Umahi','Kingsley Moghalu',\n",
    "                           'Nyesom Wike','Peter Obi','Pius Anyim','Rotimi Ameachi','Sam Ohuabunwa','Udom Emmanuel'],\n",
    "                  'Region':['NE','NW','NE','NC','NC','SW','SE','SE','SS','SE','SE','SS','SE','SS']})\n",
    "df.head()"
   ]
  },
  {
   "cell_type": "markdown",
   "metadata": {},
   "source": [
    "## Find the length of values for the name column"
   ]
  },
  {
   "cell_type": "code",
   "execution_count": 12,
   "metadata": {},
   "outputs": [
    {
     "data": {
      "text/html": [
       "<div>\n",
       "<style scoped>\n",
       "    .dataframe tbody tr th:only-of-type {\n",
       "        vertical-align: middle;\n",
       "    }\n",
       "\n",
       "    .dataframe tbody tr th {\n",
       "        vertical-align: top;\n",
       "    }\n",
       "\n",
       "    .dataframe thead th {\n",
       "        text-align: right;\n",
       "    }\n",
       "</style>\n",
       "<table border=\"1\" class=\"dataframe\">\n",
       "  <thead>\n",
       "    <tr style=\"text-align: right;\">\n",
       "      <th></th>\n",
       "      <th>Presidential Candidates</th>\n",
       "      <th>Region</th>\n",
       "      <th>Name Count</th>\n",
       "    </tr>\n",
       "  </thead>\n",
       "  <tbody>\n",
       "    <tr>\n",
       "      <th>0</th>\n",
       "      <td>Atiku Abubakar</td>\n",
       "      <td>NE</td>\n",
       "      <td>14</td>\n",
       "    </tr>\n",
       "    <tr>\n",
       "      <th>1</th>\n",
       "      <td>Aminu Tambuwal</td>\n",
       "      <td>NW</td>\n",
       "      <td>14</td>\n",
       "    </tr>\n",
       "    <tr>\n",
       "      <th>2</th>\n",
       "      <td>Bala Mohammed</td>\n",
       "      <td>NE</td>\n",
       "      <td>13</td>\n",
       "    </tr>\n",
       "    <tr>\n",
       "      <th>3</th>\n",
       "      <td>Bukola Saraki</td>\n",
       "      <td>NC</td>\n",
       "      <td>13</td>\n",
       "    </tr>\n",
       "    <tr>\n",
       "      <th>4</th>\n",
       "      <td>Yahaya Bello</td>\n",
       "      <td>NC</td>\n",
       "      <td>12</td>\n",
       "    </tr>\n",
       "  </tbody>\n",
       "</table>\n",
       "</div>"
      ],
      "text/plain": [
       "  Presidential Candidates Region  Name Count\n",
       "0          Atiku Abubakar     NE          14\n",
       "1          Aminu Tambuwal     NW          14\n",
       "2           Bala Mohammed     NE          13\n",
       "3           Bukola Saraki     NC          13\n",
       "4            Yahaya Bello     NC          12"
      ]
     },
     "execution_count": 12,
     "metadata": {},
     "output_type": "execute_result"
    }
   ],
   "source": [
    "df['Name Count'] = df['Presidential Candidates'].str.len()\n",
    "df.head()"
   ]
  },
  {
   "cell_type": "code",
   "execution_count": 14,
   "metadata": {},
   "outputs": [
    {
     "name": "stdout",
     "output_type": "stream",
     "text": [
      "The presidential candidate with the longest name is Kingsley Moghalu\n"
     ]
    }
   ],
   "source": [
    "# Who has the longest name\n",
    "rec = df['Name Count'].max()\n",
    "print('The presidential candidate with the longest name is',\n",
    "      df.loc[df['Name Count']== rec,'Presidential Candidates'].item())"
   ]
  },
  {
   "cell_type": "code",
   "execution_count": 15,
   "metadata": {
    "scrolled": true
   },
   "outputs": [
    {
     "name": "stdout",
     "output_type": "stream",
     "text": [
      "The presidential candidate with the shortest name is Peter Obi\n"
     ]
    }
   ],
   "source": [
    "# Who has the shortest name\n",
    "rec = df['Name Count'].min()\n",
    "print('The presidential candidate with the shortest name is',\n",
    "      df.loc[df['Name Count']== rec,'Presidential Candidates'].item())"
   ]
  },
  {
   "cell_type": "code",
   "execution_count": 14,
   "metadata": {},
   "outputs": [
    {
     "name": "stdout",
     "output_type": "stream",
     "text": [
      "The presidential candidate with the shortest name is from the SE\n"
     ]
    }
   ],
   "source": [
    "# Who has the shortest name\n",
    "rec = df['Name Count'].min()\n",
    "print('The presidential candidate with the shortest name is from the',\n",
    "      df.loc[df['Name Count']== rec,'Region'].item())"
   ]
  },
  {
   "cell_type": "markdown",
   "metadata": {},
   "source": [
    "## Aggregate Regional records\n",
    "\n",
    "* Create a new dataframe called 'df_region' with columns 'Region' and 'Sum of candidates'"
   ]
  },
  {
   "cell_type": "code",
   "execution_count": 20,
   "metadata": {},
   "outputs": [],
   "source": [
    "#Get the total number of candidates from each region\n",
    "num_NC = (df['Region'] == 'NC').sum()\n",
    "num_NE = (df['Region'] == 'NE').sum()\n",
    "num_NW = (df['Region'] == 'NW').sum()\n",
    "num_SS = (df['Region'] == 'SS').sum()\n",
    "num_SE = (df['Region'] == 'SE').sum()\n",
    "num_SW = (df['Region'] == 'SW').sum()\n"
   ]
  },
  {
   "cell_type": "code",
   "execution_count": 21,
   "metadata": {
    "scrolled": true
   },
   "outputs": [
    {
     "data": {
      "text/html": [
       "<div>\n",
       "<style scoped>\n",
       "    .dataframe tbody tr th:only-of-type {\n",
       "        vertical-align: middle;\n",
       "    }\n",
       "\n",
       "    .dataframe tbody tr th {\n",
       "        vertical-align: top;\n",
       "    }\n",
       "\n",
       "    .dataframe thead th {\n",
       "        text-align: right;\n",
       "    }\n",
       "</style>\n",
       "<table border=\"1\" class=\"dataframe\">\n",
       "  <thead>\n",
       "    <tr style=\"text-align: right;\">\n",
       "      <th></th>\n",
       "      <th>Region</th>\n",
       "      <th>NUM_OF_CANDIDATES</th>\n",
       "    </tr>\n",
       "  </thead>\n",
       "  <tbody>\n",
       "    <tr>\n",
       "      <th>0</th>\n",
       "      <td>NC</td>\n",
       "      <td>2</td>\n",
       "    </tr>\n",
       "    <tr>\n",
       "      <th>1</th>\n",
       "      <td>NE</td>\n",
       "      <td>2</td>\n",
       "    </tr>\n",
       "    <tr>\n",
       "      <th>2</th>\n",
       "      <td>NW</td>\n",
       "      <td>1</td>\n",
       "    </tr>\n",
       "    <tr>\n",
       "      <th>3</th>\n",
       "      <td>SS</td>\n",
       "      <td>3</td>\n",
       "    </tr>\n",
       "    <tr>\n",
       "      <th>4</th>\n",
       "      <td>SE</td>\n",
       "      <td>5</td>\n",
       "    </tr>\n",
       "  </tbody>\n",
       "</table>\n",
       "</div>"
      ],
      "text/plain": [
       "  Region  NUM_OF_CANDIDATES\n",
       "0     NC                  2\n",
       "1     NE                  2\n",
       "2     NW                  1\n",
       "3     SS                  3\n",
       "4     SE                  5"
      ]
     },
     "execution_count": 21,
     "metadata": {},
     "output_type": "execute_result"
    }
   ],
   "source": [
    "#Create a new 'df_region' dataset\n",
    "df_region = pd.DataFrame({'Region':['NC','NE','NW','SS','SE','SW'],\n",
    "                   'NUM_OF_CANDIDATES':[num_NC,num_NE,num_NW,num_SS,num_SE,num_SW]})\n",
    "df_region.head()"
   ]
  },
  {
   "cell_type": "markdown",
   "metadata": {},
   "source": [
    "## Create a plot"
   ]
  },
  {
   "cell_type": "markdown",
   "metadata": {},
   "source": [
    "### Create a bar plot for df_region"
   ]
  },
  {
   "cell_type": "code",
   "execution_count": 18,
   "metadata": {},
   "outputs": [
    {
     "data": {
      "text/plain": [
       "Text(0.5, 0, 'Region')"
      ]
     },
     "execution_count": 18,
     "metadata": {},
     "output_type": "execute_result"
    },
    {
     "data": {
      "image/png": "[encoded data removed]",
      "text/plain": [
       "<Figure size 432x288 with 1 Axes>"
      ]
     },
     "metadata": {
      "needs_background": "light"
     },
     "output_type": "display_data"
    }
   ],
   "source": [
    "import matplotlib.pyplot as plt\n",
    "\n",
    "plt.bar(df2['Region'],df2['NUM_OF_CANDIDATES'])\n",
    "plt.title('Presidential Candidates Based on Region')\n",
    "plt.ylabel('Number of Candidates')\n",
    "plt.xlabel('Region')"
   ]
  },
  {
   "cell_type": "code",
   "execution_count": 19,
   "metadata": {
    "scrolled": true
   },
   "outputs": [
    {
     "data": {
      "text/plain": [
       "Text(0.5, 0, 'Region')"
      ]
     },
     "execution_count": 19,
     "metadata": {},
     "output_type": "execute_result"
    },
    {
     "data": {
      "image/png": "[encoded data removed]",
      "text/plain": [
       "<Figure size 432x288 with 1 Axes>"
      ]
     },
     "metadata": {
      "needs_background": "light"
     },
     "output_type": "display_data"
    }
   ],
   "source": [
    "plt.plot(df2['Region'],df2['NUM_OF_CANDIDATES'])\n",
    "plt.title('Presidential Candidates Based on Region')\n",
    "plt.ylabel('Number of Candidates')\n",
    "plt.xlabel('Region')"
   ]
  },
  {
   "cell_type": "markdown",
   "metadata": {},
   "source": [
    "## EXERCISES\n",
    "\n",
    "Answer the following questions:\n",
    "* The candidate with the longest name is from which region?\n",
    "* The candidate with the shortest name is from which region?\n",
    "* How many candidate's name has a length less than 10?\n",
    "* Which are the top 5 candidates based on name length? Create a bar and line chart.\n",
    "* Which are the bottom 5 candidates based on name length? Create a bar and line chart.\n",
    "* Create a line chart for df_region\n",
    "* Who is the only candidate from the NW region?\n",
    "* Sort the record based on names."
   ]
  },
  {
   "cell_type": "markdown",
   "metadata": {},
   "source": [
    "## Wrap Up:\n",
    "\n",
    "Complete the analysis and either post your screenshot to the twitter post via [@xtian4zy](https://twitter.com/@xtian4zy) or upload to GitHub and send me a check request via dm on [@xtian4zy](https://twitter.com/@xtian4zy) or [DataScienceArena](https://t.me/datasciencearena)"
   ]
  },
  {
   "cell_type": "code",
   "execution_count": null,
   "metadata": {},
   "outputs": [],
   "source": []
  }
 ],
 "metadata": {
  "kernelspec": {
   "display_name": "Python 3",
   "language": "python",
   "name": "python3"
  },
  "language_info": {
   "codemirror_mode": {
    "name": "ipython",
    "version": 3
   },
   "file_extension": ".py",
   "mimetype": "text/x-python",
   "name": "python",
   "nbconvert_exporter": "python",
   "pygments_lexer": "ipython3",
   "version": "3.8.3"
  }
 },
 "nbformat": 4,
 "nbformat_minor": 2
}
